{
  "nbformat": 4,
  "nbformat_minor": 0,
  "metadata": {
    "colab": {
      "name": "영상 얼굴 식별 모듈 구현.ipynb",
      "provenance": [],
      "collapsed_sections": [],
      "authorship_tag": "ABX9TyOyHiJ0/rmaRXrY83gLPS+W",
      "include_colab_link": true
    },
    "kernelspec": {
      "name": "python3",
      "display_name": "Python 3"
    },
    "language_info": {
      "name": "python"
    },
    "accelerator": "GPU"
  },
  "cells": [
    {
      "cell_type": "markdown",
      "metadata": {
        "id": "view-in-github",
        "colab_type": "text"
      },
      "source": [
        "<a href=\"https://colab.research.google.com/github/seonghunYang/face-recognition/blob/main/%EC%98%81%EC%83%81_%EC%96%BC%EA%B5%B4_%EC%8B%9D%EB%B3%84_%EB%AA%A8%EB%93%88_%EA%B5%AC%ED%98%84.ipynb\" target=\"_parent\"><img src=\"https://colab.research.google.com/assets/colab-badge.svg\" alt=\"Open In Colab\"/></a>"
      ]
    },
    {
      "cell_type": "markdown",
      "metadata": {
        "id": "zDJK2SWNUeA4"
      },
      "source": [
        "##얼굴 식별 파이프라인\n",
        "1. face detection\n",
        "2. face alignment 및 정규화\n",
        "3. face representation\n",
        "4. face verification"
      ]
    },
    {
      "cell_type": "code",
      "metadata": {
        "id": "XLWHv37VUJpg"
      },
      "source": [
        "from google.colab import drive\n",
        "drive.mount('/content/drive', force_remount=True)\n",
        "\n",
        "%cd drive/MyDrive/i-mind-face-recognition"
      ],
      "execution_count": null,
      "outputs": []
    },
    {
      "cell_type": "code",
      "metadata": {
        "id": "KJBvvOIoUoYS"
      },
      "source": [
        "from deepface.commons import functions, distance as dst\n",
        "from deepface import DeepFace\n",
        "from retinaface import RetinaFace\n",
        "import time\n",
        "import cv2\n",
        "import matplotlib.pyplot as plt"
      ],
      "execution_count": null,
      "outputs": []
    },
    {
      "cell_type": "markdown",
      "metadata": {
        "id": "V1IdZLx-Xu5Z"
      },
      "source": [
        "#face detection"
      ]
    },
    {
      "cell_type": "code",
      "metadata": {
        "id": "ii0JcFWvXySu"
      },
      "source": [
        "# 이미지 사진 보여주고, rgb 변환한 값 return\n",
        "def showImg(img_path):\n",
        "  img_arr  = cv2.cvtColor(cv2.imread(img_path), cv2.COLOR_BGR2RGB)\n",
        "  plt.figure(figsize=(8, 8))\n",
        "  plt.imshow(img_arr)\n",
        "  return img_arr\n",
        "\n",
        "def drawFrameWithBbox(frame, detected_faces, labels):\n",
        "  draw_frame = frame.copy()\n",
        "  idx = 0\n",
        "  for key in detected_faces.keys():\n",
        "    face = detected_faces[key]\n",
        "    face_area = face['facial_area']\n",
        "    left = face_area[0]\n",
        "    top = face_area[1]\n",
        "    right = face_area[2]\n",
        "    bottom = face_area[3]\n",
        "\n",
        "    cv2.rectangle(draw_frame, (left, top), (right, bottom), (255, 0, 0), 1)\n",
        "    cv2.putText(draw_frame, labels[idx], (int(left), int(top - 7)), cv2.FONT_HERSHEY_SIMPLEX, 1, (0, 0, 255), 2)\n",
        "    landmarks = face['landmarks']\n",
        "    # landmark 표시\n",
        "    for key in landmarks:\n",
        "      cv2.circle(draw_frame, tuple(landmarks[key]), 1, (255, 0, 0), -1)\n",
        "    idx += 1\n",
        "  return draw_frame"
      ],
      "execution_count": null,
      "outputs": []
    }
  ]
}